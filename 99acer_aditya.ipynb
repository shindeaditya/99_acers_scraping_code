{
 "cells": [
  {
   "cell_type": "code",
   "execution_count": 14,
   "metadata": {},
   "outputs": [],
   "source": [
    "import urllib\n",
    "import urllib3\n",
    "from selenium import webdriver\n",
    "import time\n",
    "from bs4 import BeautifulSoup as bs\n",
    "import os\n",
    "import getpass\n",
    "import re"
   ]
  },
  {
   "cell_type": "code",
   "execution_count": 15,
   "metadata": {},
   "outputs": [
    {
     "name": "stdout",
     "output_type": "stream",
     "text": [
      "Requirement already satisfied: selenium in c:\\users\\aditya\\anaconda3\\lib\\site-packages (3.141.0)\n",
      "Requirement already satisfied: urllib3 in c:\\users\\aditya\\anaconda3\\lib\\site-packages (from selenium) (1.24.1)\n",
      "Note: you may need to restart the kernel to use updated packages.\n"
     ]
    }
   ],
   "source": [
    "pip install selenium"
   ]
  },
  {
   "cell_type": "code",
   "execution_count": 16,
   "metadata": {},
   "outputs": [],
   "source": [
    "driver = webdriver.Chrome('C:\\\\Users\\\\aditya\\\\Desktop\\\\aiotf\\\\chromedriver.exe')\n",
    "url ='https://www.99acres.com/NRI-Real-Estate.htm'\n",
    "driver.get(url)"
   ]
  },
  {
   "cell_type": "code",
   "execution_count": 17,
   "metadata": {},
   "outputs": [],
   "source": [
    "def get_url(search_term):\n",
    "    template = 'https://www.99acres.com/search/property/buy/residential-all/{}?search_type=QS&refSection=GNB&search_location=NRI&lstAcn=NR_R&lstAcnId=-1&src=CLUSTER&preference=S&selected_tab=1&city=1&res_com=R&property_type=R&isvoicesearch=N&keyword=delhi&strEntityMap=IiI%3D&refine_results=Y&Refine_Localities=Refine%20Localities&action=%2Fdo%2Fquicksearch%2Fsearch&searchform=1&price_min=null&price_max=null'\n",
    "    search_term = search_term.replace(' ', '+')\n",
    "    return template.format(search_term)"
   ]
  },
  {
   "cell_type": "code",
   "execution_count": 18,
   "metadata": {},
   "outputs": [],
   "source": [
    "url = get_url('delhi')\n",
    "driver.get(url)"
   ]
  },
  {
   "cell_type": "code",
   "execution_count": 19,
   "metadata": {},
   "outputs": [],
   "source": [
    "soup = bs(driver.page_source, 'html.parser')\n",
    "\n",
    "results = soup.find_all('div',{'class':'pageComponent srpTuple__srpTupleBox srp'})"
   ]
  },
  {
   "cell_type": "markdown",
   "metadata": {},
   "source": [
    "## prototype the record"
   ]
  },
  {
   "cell_type": "code",
   "execution_count": 20,
   "metadata": {},
   "outputs": [],
   "source": [
    "item= results[0]\n",
    "\n",
    "title = item.find('a','body_med srpTuple__propertyName')\n",
    "\n",
    "desc = title.text.strip()\n",
    "\n",
    "url = title.get('href')\n",
    "\n",
    "table = item.find('table', 'srpTuple__tupleTable')\n",
    "\n",
    "price = item.find('td', 'srpTuple__midGrid title_semiBold srpTuple__spacer16' )\n",
    "\n",
    "bhk = item.find('td', {'id': 'srp_tuple_bedroom'})\n",
    "\n",
    "carpet = item.find('td', {'id': 'srp_tuple_primary_area'})\n",
    "\n",
    "description = item.find('div', 'srpTuple__descMore body_med')\n",
    "\n",
    "dealerinfo = item.find('div', 'list_header_semiBold')\n",
    "\n",
    "def extract_record(item):\n",
    "    #desc and url\n",
    "    title = item.find('a','body_med srpTuple__propertyName')\n",
    "    desc = title.text.strip()\n",
    "    url =  title.get('href')\n",
    "    \n",
    "    #price\n",
    "    price = item.find('td', 'srpTuple__midGrid title_semiBold srpTuple__spacer16' ).text\n",
    "    bhk = item.find('td', {'id': 'srp_tuple_bedroom'}).text\n",
    "    carpet = item.find('td', {'id': 'srp_tuple_primary_area'}).text\n",
    "    description = item.find('div', 'srpTuple__descMore body_med').text\n",
    "    #postinfo = item.find('div', 'caption_strong_small').text\n",
    "    dealerinfo = item.find('div', 'list_header_semiBold').text.strip()\n",
    "    soc_heading = item.find('td', 'list_header_bold srpTuple__spacer10').text.strip()\n",
    "    \n",
    "    result = (desc, price,carpet, description,dealerinfo,bhk,soc_heading, url)\n",
    "    return result"
   ]
  },
  {
   "cell_type": "code",
   "execution_count": 21,
   "metadata": {},
   "outputs": [],
   "source": [
    "records =[]\n",
    "results = soup.find_all('div',{'class':'pageComponent srpTuple__srpTupleBox srp'})\n",
    "for item in results:\n",
    "    records.append(extract_record(item))"
   ]
  },
  {
   "cell_type": "markdown",
   "metadata": {},
   "source": [
    "## Collecting Together"
   ]
  },
  {
   "cell_type": "code",
   "execution_count": 22,
   "metadata": {},
   "outputs": [],
   "source": [
    "import urllib\n",
    "import urllib3\n",
    "from selenium import webdriver\n",
    "import time\n",
    "from bs4 import BeautifulSoup as bs\n",
    "import os\n",
    "import getpass\n",
    "import re\n",
    "import csv\n",
    "\n",
    "def get_url(search_term):\n",
    "    template = 'https://www.99acres.com/search/property/buy/residential-all/{}?search_type=QS&refSection=GNB&search_location=NRI&lstAcn=NR_R&lstAcnId=-1&src=CLUSTER&preference=S&selected_tab=1&city=1&res_com=R&property_type=R&isvoicesearch=N&keyword=delhi&strEntityMap=IiI%3D&refine_results=Y&Refine_Localities=Refine%20Localities&action=%2Fdo%2Fquicksearch%2Fsearch&searchform=1&price_min=null&price_max=null'\n",
    "    search_term = search_term.replace(' ', '+')\n",
    "    return template.format(search_term)\n",
    "\n",
    "def extract_record(item):\n",
    "    #desc and url\n",
    "    title = item.find('a','body_med srpTuple__propertyName')\n",
    "    desc = title.text.strip()\n",
    "    url =  title.get('href')\n",
    "    \n",
    "    #price\n",
    "    price = item.find('td', 'srpTuple__midGrid title_semiBold srpTuple__spacer16' ).text\n",
    "    bhk = item.find('td', {'id': 'srp_tuple_bedroom'}).text\n",
    "    carpet = item.find('td', {'id': 'srp_tuple_primary_area'}).text\n",
    "    description = item.find('div', 'srpTuple__descMore body_med').text\n",
    "    #postinfo = item.find('div', 'caption_strong_small').text\n",
    "    dealerinfo = item.find('div', 'list_header_semiBold').text.strip()\n",
    "    soc_heading = item.find('td', 'list_header_bold srpTuple__spacer10').text.strip()\n",
    "\n",
    "    \n",
    "   \n",
    "    \n",
    "    result = (desc, price,carpet, description, dealerinfo,bhk,soc_heading, url)\n",
    "    return result\n",
    "\n",
    "\n",
    "\n",
    "def main(search_term):\n",
    "    driver = webdriver.Chrome('C:\\\\Users\\\\aditya\\\\Desktop\\\\aiotf\\\\chromedriver.exe')\n",
    "    record =[]\n",
    "    url = get_url(search_term)\n",
    "    \n",
    "\n",
    "    for item in results:\n",
    "        record = extract_record(item)\n",
    "        if record:\n",
    "            records.append(record)\n",
    "    \n",
    "    driver.close()\n",
    "    \n",
    "    with open('resultdel.csv' , 'w', newline='', encoding ='utf-8') as f:\n",
    "        writer = csv.writer(f)\n",
    "        writer.writerow(['desc', 'price', 'carpet', 'description', 'postinfo', 'dealerinfo', 'bhk','soc_heading' 'url'])\n",
    "        writer.writerows(records)"
   ]
  },
  {
   "cell_type": "code",
   "execution_count": 23,
   "metadata": {},
   "outputs": [],
   "source": [
    "main('delhi')"
   ]
  },
  {
   "cell_type": "markdown",
   "metadata": {},
   "source": [
    "### multiple pages"
   ]
  },
  {
   "cell_type": "code",
   "execution_count": 24,
   "metadata": {},
   "outputs": [],
   "source": [
    "def get_url(search_term):\n",
    "    template = 'https://www.99acres.com/search/property/buy/residential-all/{}?search_type=QS&refSection=GNB&search_location=NRI&lstAcn=NR_R&lstAcnId=-1&src=CLUSTER&preference=S&selected_tab=1&city=1&res_com=R&property_type=R&isvoicesearch=N&keyword=delhi&strEntityMap=IiI%3D&refine_results=Y&Refine_Localities=Refine%20Localities&action=%2Fdo%2Fquicksearch%2Fsearch&searchform=1&price_min=null&price_max=null'\n",
    "    search_term = search_term.replace(' ', '+')\n",
    "    \n",
    "    \n",
    "    url = template.format(search_term)\n",
    "    url += '&page{}'\n",
    "    return url\n",
    "\n"
   ]
  },
  {
   "cell_type": "code",
   "execution_count": 25,
   "metadata": {},
   "outputs": [],
   "source": [
    "import urllib\n",
    "import urllib3\n",
    "from selenium import webdriver\n",
    "import time\n",
    "from bs4 import BeautifulSoup as bs\n",
    "import os\n",
    "import getpass\n",
    "import re\n",
    "import csv\n",
    "\n",
    "def get_url(search_term):\n",
    "    template = 'https://www.99acres.com/search/property/buy/residential-all/{}?search_type=QS&refSection=GNB&search_location=NRI&lstAcn=NR_R&lstAcnId=-1&src=CLUSTER&preference=S&selected_tab=1&city=1&res_com=R&property_type=R&isvoicesearch=N&keyword=delhi&strEntityMap=IiI%3D&refine_results=Y&Refine_Localities=Refine%20Localities&action=%2Fdo%2Fquicksearch%2Fsearch&searchform=1&price_min=null&price_max=null'\n",
    "    search_term = search_term.replace(' ', '+')\n",
    "    \n",
    "    \n",
    "    url = template.format(search_term)\n",
    "    url += '&page{}'\n",
    "    return url\n",
    "\n",
    "def extract_record(item):\n",
    "    #desc and url\n",
    "    title = item.find('a','body_med srpTuple__propertyName')\n",
    "    desc = title.text.strip()\n",
    "    url = title.get('href')\n",
    "    \n",
    "    #price\n",
    "    price = item.find('td', 'srpTuple__midGrid title_semiBold srpTuple__spacer16' ).text\n",
    "    bhk = item.find('td', {'id': 'srp_tuple_bedroom'}).text\n",
    "    carpet = item.find('td', {'id': 'srp_tuple_primary_area'}).text\n",
    "    description = item.find('div', 'srpTuple__descMore body_med').text\n",
    "    #postinfo = item.find('div', 'caption_strong_small').text\n",
    "    dealerinfo = item.find('div', 'list_header_semiBold').text.strip()\n",
    "\n",
    "    soc_heading = item.find('td', 'list_header_bold srpTuple__spacer10').text.strip()\n",
    "   \n",
    "    \n",
    "    result = (desc, price,carpet, description,dealerinfo,bhk,soc_heading, url)\n",
    "    return result\n",
    "\n",
    "def main(search_term):\n",
    "    driver = webdriver.Chrome('C:\\\\Users\\\\aditya\\\\Desktop\\\\aiotf\\\\chromedriver.exe')\n",
    "    record =[]\n",
    "    url = get_url(search_term)\n",
    "    \n",
    "    for page in range(1,10):\n",
    "        driver.get(url.format(page))\n",
    "        soup = bs(driver.page_source, 'html.parser')\n",
    "        results = soup.find_all('div',{'class':'pageComponent srpTuple__srpTupleBox srp'})\n",
    "        \n",
    "        for item in results:\n",
    "            record = extract_record(item)\n",
    "            if record:\n",
    "                records.append(record)\n",
    "                \n",
    "    driver.close()\n",
    "    \n",
    "    with open('resultdelhi1.csv' , 'w', newline='', encoding ='utf-8') as f:\n",
    "        writer = csv.writer(f)\n",
    "        writer.writerow(['desc', 'price', 'carpet', 'description', 'dealerinfo', 'bhk','soc_hrading', 'url'])\n",
    "        writer.writerows(records)\n",
    "\n",
    "        \n"
   ]
  },
  {
   "cell_type": "code",
   "execution_count": 26,
   "metadata": {},
   "outputs": [],
   "source": [
    "main('delhi')"
   ]
  },
  {
   "cell_type": "code",
   "execution_count": null,
   "metadata": {},
   "outputs": [],
   "source": []
  },
  {
   "cell_type": "code",
   "execution_count": null,
   "metadata": {},
   "outputs": [],
   "source": []
  }
 ],
 "metadata": {
  "kernelspec": {
   "display_name": "Python 3",
   "language": "python",
   "name": "python3"
  },
  "language_info": {
   "codemirror_mode": {
    "name": "ipython",
    "version": 3
   },
   "file_extension": ".py",
   "mimetype": "text/x-python",
   "name": "python",
   "nbconvert_exporter": "python",
   "pygments_lexer": "ipython3",
   "version": "3.7.3"
  }
 },
 "nbformat": 4,
 "nbformat_minor": 2
}
